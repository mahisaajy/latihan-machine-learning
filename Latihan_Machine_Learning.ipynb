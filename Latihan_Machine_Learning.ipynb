{
  "nbformat": 4,
  "nbformat_minor": 0,
  "metadata": {
    "colab": {
      "name": "Latihan Machine Learning",
      "provenance": [],
      "authorship_tag": "ABX9TyOcyjtGUeorHV7ENiJp4Y8s",
      "include_colab_link": true
    },
    "kernelspec": {
      "name": "python3",
      "display_name": "Python 3"
    }
  },
  "cells": [
    {
      "cell_type": "markdown",
      "metadata": {
        "id": "view-in-github",
        "colab_type": "text"
      },
      "source": [
        "<a href=\"https://colab.research.google.com/github/mahisaajy/latihan-machine-learning/blob/master/Latihan_Machine_Learning.ipynb\" target=\"_parent\"><img src=\"https://colab.research.google.com/assets/colab-badge.svg\" alt=\"Open In Colab\"/></a>"
      ]
    },
    {
      "cell_type": "code",
      "metadata": {
        "id": "THGASiuRD73W",
        "colab_type": "code",
        "outputId": "f8727128-93b4-49a1-927b-188d847f274a",
        "colab": {
          "base_uri": "https://localhost:8080/",
          "height": 34
        }
      },
      "source": [
        "print('test')"
      ],
      "execution_count": 0,
      "outputs": [
        {
          "output_type": "stream",
          "text": [
            "test\n"
          ],
          "name": "stdout"
        }
      ]
    },
    {
      "cell_type": "code",
      "metadata": {
        "id": "WDBFXhUF-u9c",
        "colab_type": "code",
        "colab": {
          "base_uri": "https://localhost:8080/",
          "height": 210
        },
        "outputId": "48eb211e-c8c9-4d35-9bef-286c3705dbc4"
      },
      "source": [
        "#importing Numpy, Matplotlib, and sklearn libraries\n",
        "import matplotlib.pyplot as plt\n",
        "import numpy as np\n",
        "\n",
        "#importing datasets from scikit-learn\n",
        "from sklearn import datasets, linear_model\n",
        "\n",
        "#load the dataset\n",
        "house_price = [245, 312, 279, 308, 199, 219, 405, 324, 319, 255]\n",
        "size = [1400, 1600, 1700, 1875, 1100, 1550, 2350, 2450, 1425, 1700]\n",
        "print(size)\n",
        "\n",
        "#reshape the input to your regression\n",
        "size2 = np.array(size).reshape((-1, 1))\n",
        "print(size2)"
      ],
      "execution_count": 5,
      "outputs": [
        {
          "output_type": "stream",
          "text": [
            "[1400, 1600, 1700, 1875, 1100, 1550, 2350, 2450, 1425, 1700]\n",
            "[[1400]\n",
            " [1600]\n",
            " [1700]\n",
            " [1875]\n",
            " [1100]\n",
            " [1550]\n",
            " [2350]\n",
            " [2450]\n",
            " [1425]\n",
            " [1700]]\n"
          ],
          "name": "stdout"
        }
      ]
    },
    {
      "cell_type": "code",
      "metadata": {
        "id": "BEp8hnyrBUT5",
        "colab_type": "code",
        "colab": {
          "base_uri": "https://localhost:8080/",
          "height": 87
        },
        "outputId": "91171db3-9033-45c6-cb9c-b184e11688a8"
      },
      "source": [
        "#by using fit module in linear regression, user can fit the data frequently and quickly\n",
        "regr = linear_model.LinearRegression()\n",
        "regr.fit(size2, house_price)\n",
        "print(\"Coefficients: \\n\", regr.coef_)\n",
        "print(\"intercept: \\n\", regr.intercept_)"
      ],
      "execution_count": 6,
      "outputs": [
        {
          "output_type": "stream",
          "text": [
            "Coefficients: \n",
            " [0.10976774]\n",
            "intercept: \n",
            " 98.24832962138078\n"
          ],
          "name": "stdout"
        }
      ]
    },
    {
      "cell_type": "code",
      "metadata": {
        "id": "aSCboX-bC1tP",
        "colab_type": "code",
        "colab": {
          "base_uri": "https://localhost:8080/",
          "height": 52
        },
        "outputId": "a64cfd3c-791d-4371-c564-96b1401719b1"
      },
      "source": [
        "size_new = 1400\n",
        "price = (size_new * regr.coef_) + regr.intercept_\n",
        "print(price)\n",
        "print(regr.predict([[size_new]]))"
      ],
      "execution_count": 7,
      "outputs": [
        {
          "output_type": "stream",
          "text": [
            "[251.92316258]\n",
            "[251.92316258]\n"
          ],
          "name": "stdout"
        }
      ]
    },
    {
      "cell_type": "code",
      "metadata": {
        "id": "296acbCsESCz",
        "colab_type": "code",
        "colab": {
          "base_uri": "https://localhost:8080/",
          "height": 279
        },
        "outputId": "f0e52507-a7f6-4a48-b7b8-a7e44b81f322"
      },
      "source": [
        "#formula obtained for the trained model\n",
        "def graph(formula, x_range):\n",
        "  x = np.array(x_range)\n",
        "  y = eval(formula)\n",
        "  plt.plot(x, y)\n",
        "\n",
        "#plotting the prediction line\n",
        "graph('regr.coef_*x + regr.intercept_', range(1000, 2700))\n",
        "plt.scatter(size, house_price, color='black')\n",
        "plt.ylabel('house price')\n",
        "plt.xlabel('size of house')\n",
        "plt.show()"
      ],
      "execution_count": 8,
      "outputs": [
        {
          "output_type": "display_data",
          "data": {
            "image/png": "[encoded data removed]",
            "text/plain": [
              "<Figure size 432x288 with 1 Axes>"
            ]
          },
          "metadata": {
            "tags": [],
            "needs_background": "light"
          }
        }
      ]
    }
  ]
}